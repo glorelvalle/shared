{
 "cells": [
  {
   "cell_type": "code",
   "execution_count": 3,
   "metadata": {},
   "outputs": [
    {
     "name": "stdout",
     "output_type": "stream",
     "text": [
      "   cast_total_facebook_likes  imdb_score\n",
      "0                     108016         5.4\n",
      "1                     303717         5.2\n",
      "2                     656730         7.2\n",
      "3                     137712         5.7\n",
      "4                     120797         6.0\n",
      "5                     140268         6.0\n",
      "6                     170118         6.4\n",
      "7                     261818         9.1\n",
      "8                     263584         5.6\n",
      "9                     283939         3.9\n"
     ]
    }
   ],
   "source": [
    "from sklearn.model_selection import KFold\n",
    "# KFold proporciona índices de entrenamiento/test para datos divididos en conjuntos de entrenamiento/test\n",
    "# Divide el conjunto de datos en k particiones consecutivas\n",
    "import pandas as pd # para el analisis de datos\n",
    "import numpy as np\n",
    "\n",
    "data = pd.read_csv('moviesc10.csv') # seleccion de datos de la bd\n",
    "df = pd.DataFrame(data) #EdD bidimensional de tamaño variable y ejes etiquetados (fil-col)\n",
    "\n",
    "print (df)"
   ]
  },
  {
   "cell_type": "code",
   "execution_count": 4,
   "metadata": {},
   "outputs": [
    {
     "name": "stdout",
     "output_type": "stream",
     "text": [
      "KFold(n_splits=2, random_state=2, shuffle=True)\n"
     ]
    }
   ],
   "source": [
    "# separamos los valores\n",
    "X = df['cast_total_facebook_likes'] # primera col\n",
    "y = df['imdb_score'] # segunda columna\n",
    "kf = KFold(n_splits=2, shuffle=True, random_state=2) # opciones de KFold: n_splits (no. de folds), \n",
    "                                                     # shuffle (si barajamos los datos antes de dividirlos), \n",
    "                                                     # random_state (semilla para generar no. aleatorios, se usa cuando shuffle es True)\n",
    "\n",
    "print(kf)"
   ]
  },
  {
   "cell_type": "code",
   "execution_count": 5,
   "metadata": {},
   "outputs": [
    {
     "name": "stdout",
     "output_type": "stream",
     "text": [
      "\n",
      "Valores de x:  [2 3 6 8 9] \tValores de y: [0 1 4 5 7] \n",
      "\n",
      "   cast_total_facebook_likes  imdb_score\n",
      "2                     656730         7.2\n",
      "3                     137712         5.7\n",
      "6                     170118         6.4\n",
      "8                     263584         5.6\n",
      "9                     283939         3.9 \n",
      "    cast_total_facebook_likes  imdb_score\n",
      "0                     108016         5.4\n",
      "1                     303717         5.2\n",
      "4                     120797         6.0\n",
      "5                     140268         6.0\n",
      "7                     261818         9.1\n",
      "\n",
      "Valores de x:  [0 1 4 5 7] \tValores de y: [2 3 6 8 9] \n",
      "\n",
      "   cast_total_facebook_likes  imdb_score\n",
      "0                     108016         5.4\n",
      "1                     303717         5.2\n",
      "4                     120797         6.0\n",
      "5                     140268         6.0\n",
      "7                     261818         9.1 \n",
      "    cast_total_facebook_likes  imdb_score\n",
      "2                     656730         7.2\n",
      "3                     137712         5.7\n",
      "6                     170118         6.4\n",
      "8                     263584         5.6\n",
      "9                     283939         3.9\n"
     ]
    }
   ],
   "source": [
    "for i, j in kf.split(X):\n",
    "    print(\"\\nValores de x: \",i,\"\\tValores de y:\",j,\"\\n\") # lo dividimos en 2, organizado de dos maneras posibles\n",
    "    print(df.iloc[i], \"\\n\", df.iloc[j]) # index pos\n",
    "    "
   ]
  },
  {
   "cell_type": "code",
   "execution_count": 6,
   "metadata": {},
   "outputs": [
    {
     "name": "stdout",
     "output_type": "stream",
     "text": [
      "\n",
      "Valores de x:  [0 2 3 5 6 7 8 9] \tValores de y: [1 4] \n",
      "\n",
      "   cast_total_facebook_likes  imdb_score\n",
      "0                     108016         5.4\n",
      "2                     656730         7.2\n",
      "3                     137712         5.7\n",
      "5                     140268         6.0\n",
      "6                     170118         6.4\n",
      "7                     261818         9.1\n",
      "8                     263584         5.6\n",
      "9                     283939         3.9 \n",
      "    cast_total_facebook_likes  imdb_score\n",
      "1                     303717         5.2\n",
      "4                     120797         6.0\n",
      "\n",
      "Valores de x:  [1 2 3 4 6 7 8 9] \tValores de y: [0 5] \n",
      "\n",
      "   cast_total_facebook_likes  imdb_score\n",
      "1                     303717         5.2\n",
      "2                     656730         7.2\n",
      "3                     137712         5.7\n",
      "4                     120797         6.0\n",
      "6                     170118         6.4\n",
      "7                     261818         9.1\n",
      "8                     263584         5.6\n",
      "9                     283939         3.9 \n",
      "    cast_total_facebook_likes  imdb_score\n",
      "0                     108016         5.4\n",
      "5                     140268         6.0\n",
      "\n",
      "Valores de x:  [0 1 3 4 5 6 8 9] \tValores de y: [2 7] \n",
      "\n",
      "   cast_total_facebook_likes  imdb_score\n",
      "0                     108016         5.4\n",
      "1                     303717         5.2\n",
      "3                     137712         5.7\n",
      "4                     120797         6.0\n",
      "5                     140268         6.0\n",
      "6                     170118         6.4\n",
      "8                     263584         5.6\n",
      "9                     283939         3.9 \n",
      "    cast_total_facebook_likes  imdb_score\n",
      "2                     656730         7.2\n",
      "7                     261818         9.1\n",
      "\n",
      "Valores de x:  [0 1 2 4 5 7 8 9] \tValores de y: [3 6] \n",
      "\n",
      "   cast_total_facebook_likes  imdb_score\n",
      "0                     108016         5.4\n",
      "1                     303717         5.2\n",
      "2                     656730         7.2\n",
      "4                     120797         6.0\n",
      "5                     140268         6.0\n",
      "7                     261818         9.1\n",
      "8                     263584         5.6\n",
      "9                     283939         3.9 \n",
      "    cast_total_facebook_likes  imdb_score\n",
      "3                     137712         5.7\n",
      "6                     170118         6.4\n",
      "\n",
      "Valores de x:  [0 1 2 3 4 5 6 7] \tValores de y: [8 9] \n",
      "\n",
      "   cast_total_facebook_likes  imdb_score\n",
      "0                     108016         5.4\n",
      "1                     303717         5.2\n",
      "2                     656730         7.2\n",
      "3                     137712         5.7\n",
      "4                     120797         6.0\n",
      "5                     140268         6.0\n",
      "6                     170118         6.4\n",
      "7                     261818         9.1 \n",
      "    cast_total_facebook_likes  imdb_score\n",
      "8                     263584         5.6\n",
      "9                     283939         3.9\n"
     ]
    }
   ],
   "source": [
    "# Ahora cambiamos la organizacion en k = 5 (Tiene que ser proporcional, k = 6 no valdria)\n",
    "kf = KFold(n_splits=5, shuffle=True, random_state=2)\n",
    "for i, j in kf.split(X):\n",
    "    print(\"\\nValores de x: \",i,\"\\tValores de y:\",j,\"\\n\") # lo dividimos en 2, organizado de dos maneras posibles\n",
    "    print(df.iloc[i], \"\\n\", df.iloc[j]) # index pos"
   ]
  },
  {
   "cell_type": "code",
   "execution_count": 9,
   "metadata": {},
   "outputs": [
    {
     "name": "stdout",
     "output_type": "stream",
     "text": [
      "Train:  [0 2 3 5 6 7 8 9] Test:  [1 4]\n",
      "\n",
      "MSE:  1.840496079202632\n",
      "\n",
      "R^2:  0.0808291137809718\n",
      "_________________________________________\n",
      "Train:  [1 2 3 4 6 7 8 9] Test:  [0 5]\n",
      "\n",
      "MSE:  1.9550867199203559\n",
      "\n",
      "R^2:  0.0438943220378788\n",
      "_________________________________________\n",
      "Train:  [0 1 3 4 5 6 8 9] Test:  [2 7]\n",
      "\n",
      "MSE:  0.3155722440576349\n",
      "\n",
      "R^2:  0.37121346140446354\n",
      "_________________________________________\n",
      "Train:  [0 1 2 4 5 7 8 9] Test:  [3 6]\n",
      "\n",
      "MSE:  1.9400098163797928\n",
      "\n",
      "R^2:  0.06505551017841282\n",
      "_________________________________________\n",
      "Train:  [0 1 2 3 4 5 6 7] Test:  [8 9]\n",
      "\n",
      "MSE:  1.2012889905335664\n",
      "\n",
      "R^2:  0.14001683004308418\n",
      "_________________________________________\n"
     ]
    }
   ],
   "source": [
    "from sklearn import linear_model # utilizamos el modelo lineal\n",
    "from sklearn.metrics import mean_squared_error, r2_score # errores y valor r cuadrado\n",
    "\n",
    "rg = linear_model.LinearRegression()\n",
    "kf = KFold(n_splits=5, shuffle=True, random_state=2)\n",
    "for i, j in kf.split(X):\n",
    "    print (\"Train: \", i, \"Test: \", j)\n",
    "    X_train, X_test = X[i], X[j]\n",
    "    y_train, y_test = y[i], y[j]\n",
    "    \n",
    "    # para reconocer el modelo: reshape\n",
    "    X_train = X_train.values.reshape([X_train.values.shape[0],1])\n",
    "    X_test = X_test.values.reshape([X_test.values.shape[0],1])\n",
    "    \n",
    "    rg.fit(X_train, y_train)\n",
    "    y_predict = rg.predict(X_train)\n",
    "    \n",
    "    mse = mean_squared_error(y_train, y_predict)\n",
    "\n",
    "    print(\"\\nMSE: \", mse)\n",
    "    print(\"\\nR^2: \", r2_score(y_train, y_predict))\n",
    "    print(\"_________________________________________\")"
   ]
  },
  {
   "cell_type": "code",
   "execution_count": null,
   "metadata": {},
   "outputs": [],
   "source": []
  }
 ],
 "metadata": {
  "kernelspec": {
   "display_name": "Python 3",
   "language": "python",
   "name": "python3"
  },
  "language_info": {
   "codemirror_mode": {
    "name": "ipython",
    "version": 3
   },
   "file_extension": ".py",
   "mimetype": "text/x-python",
   "name": "python",
   "nbconvert_exporter": "python",
   "pygments_lexer": "ipython3",
   "version": "3.7.3"
  }
 },
 "nbformat": 4,
 "nbformat_minor": 2
}
